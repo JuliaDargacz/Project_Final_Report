{
 "cells": [
  {
   "cell_type": "markdown",
   "id": "db75f16b-b9f2-4937-9287-d32bd297ad49",
   "metadata": {},
   "source": [
    "# DSCI 100 Final Project Report  "
   ]
  },
  {
   "cell_type": "markdown",
   "id": "02c3c135-b5a7-48de-800f-6188bc997405",
   "metadata": {},
   "source": [
    "## Introduction"
   ]
  },
  {
   "cell_type": "code",
   "execution_count": null,
   "id": "89cd18b6-89da-443e-b952-c09f43d62238",
   "metadata": {},
   "outputs": [],
   "source": []
  },
  {
   "cell_type": "markdown",
   "id": "2cf77366-eda1-4aa7-9e7f-4d8a45336110",
   "metadata": {},
   "source": [
    "## Methods"
   ]
  },
  {
   "cell_type": "code",
   "execution_count": null,
   "id": "7d3def0e-5d23-4f91-91c5-186f80af1347",
   "metadata": {},
   "outputs": [],
   "source": []
  },
  {
   "cell_type": "markdown",
   "id": "2e8afaad-b9c0-43b2-b11c-21597185540b",
   "metadata": {},
   "source": [
    "## Results"
   ]
  },
  {
   "cell_type": "code",
   "execution_count": null,
   "id": "c8be98a5-65d9-4a0c-8b6b-78f6a1999d5f",
   "metadata": {},
   "outputs": [],
   "source": []
  },
  {
   "cell_type": "markdown",
   "id": "96ded6bd-bb6c-4216-b6dd-a8b5c8e617b5",
   "metadata": {},
   "source": [
    "## Discussion"
   ]
  },
  {
   "cell_type": "code",
   "execution_count": null,
   "id": "ed79f3ed-270c-4d43-b524-864e6f4d4b34",
   "metadata": {},
   "outputs": [],
   "source": []
  },
  {
   "cell_type": "markdown",
   "id": "ca1333f6-4e27-4dfa-a6f9-89230b0f1ee3",
   "metadata": {},
   "source": [
    "## References "
   ]
  },
  {
   "cell_type": "code",
   "execution_count": null,
   "id": "48d2c0a8-365a-49f6-8e22-353463633957",
   "metadata": {},
   "outputs": [],
   "source": []
  }
 ],
 "metadata": {
  "kernelspec": {
   "display_name": "R",
   "language": "R",
   "name": "ir"
  },
  "language_info": {
   "codemirror_mode": "r",
   "file_extension": ".r",
   "mimetype": "text/x-r-source",
   "name": "R",
   "pygments_lexer": "r",
   "version": "4.3.3"
  }
 },
 "nbformat": 4,
 "nbformat_minor": 5
}
